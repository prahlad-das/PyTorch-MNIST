{
 "cells": [
  {
   "cell_type": "code",
   "execution_count": 14,
   "metadata": {},
   "outputs": [],
   "source": [
    "import torchvision\n",
    "import torchvision.transforms as transforms\n",
    "import torch.utils\n",
    "import torch.nn as nn"
   ]
  },
  {
   "cell_type": "code",
   "execution_count": 5,
   "metadata": {},
   "outputs": [
    {
     "name": "stdout",
     "output_type": "stream",
     "text": [
      "Downloading http://yann.lecun.com/exdb/mnist/train-images-idx3-ubyte.gz\n",
      "Downloading http://yann.lecun.com/exdb/mnist/train-images-idx3-ubyte.gz to Data\\MNIST\\raw\\train-images-idx3-ubyte.gz\n"
     ]
    },
    {
     "data": {
      "application/vnd.jupyter.widget-view+json": {
       "model_id": "015e23760f1a462cbf1e6e6f90d7b366",
       "version_major": 2,
       "version_minor": 0
      },
      "text/plain": [
       "HBox(children=(HTML(value=''), FloatProgress(value=0.0, max=9912422.0), HTML(value='')))"
      ]
     },
     "metadata": {},
     "output_type": "display_data"
    },
    {
     "name": "stdout",
     "output_type": "stream",
     "text": [
      "\n",
      "Extracting Data\\MNIST\\raw\\train-images-idx3-ubyte.gz to Data\\MNIST\\raw\n",
      "\n",
      "Downloading http://yann.lecun.com/exdb/mnist/train-labels-idx1-ubyte.gz\n",
      "Downloading http://yann.lecun.com/exdb/mnist/train-labels-idx1-ubyte.gz to Data\\MNIST\\raw\\train-labels-idx1-ubyte.gz\n"
     ]
    },
    {
     "data": {
      "application/vnd.jupyter.widget-view+json": {
       "model_id": "420d840ffcf84d29bf26c162e369454e",
       "version_major": 2,
       "version_minor": 0
      },
      "text/plain": [
       "HBox(children=(HTML(value=''), FloatProgress(value=0.0, max=28881.0), HTML(value='')))"
      ]
     },
     "metadata": {},
     "output_type": "display_data"
    },
    {
     "name": "stdout",
     "output_type": "stream",
     "text": [
      "\n",
      "Extracting Data\\MNIST\\raw\\train-labels-idx1-ubyte.gz to Data\\MNIST\\raw\n",
      "\n",
      "Downloading http://yann.lecun.com/exdb/mnist/t10k-images-idx3-ubyte.gz\n",
      "Downloading http://yann.lecun.com/exdb/mnist/t10k-images-idx3-ubyte.gz to Data\\MNIST\\raw\\t10k-images-idx3-ubyte.gz\n"
     ]
    },
    {
     "data": {
      "application/vnd.jupyter.widget-view+json": {
       "model_id": "c6d3f227e6fc4570930d09529d961baa",
       "version_major": 2,
       "version_minor": 0
      },
      "text/plain": [
       "HBox(children=(HTML(value=''), FloatProgress(value=0.0, max=1648877.0), HTML(value='')))"
      ]
     },
     "metadata": {},
     "output_type": "display_data"
    },
    {
     "name": "stdout",
     "output_type": "stream",
     "text": [
      "\n",
      "Extracting Data\\MNIST\\raw\\t10k-images-idx3-ubyte.gz to Data\\MNIST\\raw\n",
      "\n",
      "Downloading http://yann.lecun.com/exdb/mnist/t10k-labels-idx1-ubyte.gz\n",
      "Downloading http://yann.lecun.com/exdb/mnist/t10k-labels-idx1-ubyte.gz to Data\\MNIST\\raw\\t10k-labels-idx1-ubyte.gz\n"
     ]
    },
    {
     "data": {
      "application/vnd.jupyter.widget-view+json": {
       "model_id": "eccb24ae469f4eaab1186b7baee1f812",
       "version_major": 2,
       "version_minor": 0
      },
      "text/plain": [
       "HBox(children=(HTML(value=''), FloatProgress(value=0.0, max=4542.0), HTML(value='')))"
      ]
     },
     "metadata": {},
     "output_type": "display_data"
    },
    {
     "name": "stdout",
     "output_type": "stream",
     "text": [
      "\n",
      "Extracting Data\\MNIST\\raw\\t10k-labels-idx1-ubyte.gz to Data\\MNIST\\raw\n",
      "\n",
      "Processing...\n",
      "Done!\n"
     ]
    },
    {
     "name": "stderr",
     "output_type": "stream",
     "text": [
      "C:\\Users\\prahl\\anaconda3\\lib\\site-packages\\torchvision\\datasets\\mnist.py:502: UserWarning: The given NumPy array is not writeable, and PyTorch does not support non-writeable tensors. This means you can write to the underlying (supposedly non-writeable) NumPy array using the tensor. You may want to copy the array to protect its data or make it writeable before converting it to a tensor. This type of warning will be suppressed for the rest of this program. (Triggered internally at  ..\\torch\\csrc\\utils\\tensor_numpy.cpp:143.)\n",
      "  return torch.from_numpy(parsed.astype(m[2], copy=False)).view(*s)\n"
     ]
    }
   ],
   "source": [
    "train_data = torchvision.datasets.MNIST(root='Data', train= True, transform=transforms.ToTensor(), download=True)"
   ]
  },
  {
   "cell_type": "code",
   "execution_count": 6,
   "metadata": {},
   "outputs": [
    {
     "name": "stdout",
     "output_type": "stream",
     "text": [
      "Dataset MNIST\n",
      "    Number of datapoints: 60000\n",
      "    Root location: Data\n",
      "    Split: Train\n",
      "    StandardTransform\n",
      "Transform: ToTensor()\n"
     ]
    }
   ],
   "source": [
    "print(train_data)"
   ]
  },
  {
   "cell_type": "code",
   "execution_count": 7,
   "metadata": {},
   "outputs": [],
   "source": [
    "test_data = torchvision.datasets.MNIST(root='Data', train= False, transform=transforms.ToTensor(), download=True)"
   ]
  },
  {
   "cell_type": "code",
   "execution_count": 29,
   "metadata": {},
   "outputs": [],
   "source": [
    "batch_size = 100\n",
    "learning_rate = 0.001\n",
    "input_size = 28*28\n",
    "num_classes = 10\n",
    "num_epochs = 10"
   ]
  },
  {
   "cell_type": "code",
   "execution_count": 10,
   "metadata": {},
   "outputs": [],
   "source": [
    "train_loader = torch.utils.data.DataLoader(dataset=train_data, batch_size=batch_size, shuffle=True)\n",
    "test_loader = torch.utils.data.DataLoader(dataset=test_data, batch_size=batch_size, shuffle=False)"
   ]
  },
  {
   "cell_type": "code",
   "execution_count": 16,
   "metadata": {},
   "outputs": [],
   "source": [
    "model = nn.Linear(input_size, num_classes)"
   ]
  },
  {
   "cell_type": "code",
   "execution_count": 18,
   "metadata": {},
   "outputs": [],
   "source": [
    "criterion = torch.nn.CrossEntropyLoss()\n",
    "optimizer = torch.optim.SGD(params=model.parameters(), lr=learning_rate)"
   ]
  },
  {
   "cell_type": "code",
   "execution_count": null,
   "metadata": {},
   "outputs": [],
   "source": []
  },
  {
   "cell_type": "code",
   "execution_count": 30,
   "metadata": {},
   "outputs": [
    {
     "name": "stdout",
     "output_type": "stream",
     "text": [
      "Epoch [1/10], Step [100/600], Loss: 0.9218\n",
      "Epoch [1/10], Step [200/600], Loss: 0.9140\n",
      "Epoch [1/10], Step [300/600], Loss: 0.9115\n",
      "Epoch [1/10], Step [400/600], Loss: 0.9560\n",
      "Epoch [1/10], Step [500/600], Loss: 0.8748\n",
      "Epoch [1/10], Step [600/600], Loss: 0.9322\n",
      "Epoch [2/10], Step [100/600], Loss: 0.9350\n",
      "Epoch [2/10], Step [200/600], Loss: 0.8787\n",
      "Epoch [2/10], Step [300/600], Loss: 0.9718\n",
      "Epoch [2/10], Step [400/600], Loss: 0.7714\n",
      "Epoch [2/10], Step [500/600], Loss: 0.7486\n",
      "Epoch [2/10], Step [600/600], Loss: 0.9091\n",
      "Epoch [3/10], Step [100/600], Loss: 0.8920\n",
      "Epoch [3/10], Step [200/600], Loss: 0.7742\n",
      "Epoch [3/10], Step [300/600], Loss: 0.8477\n",
      "Epoch [3/10], Step [400/600], Loss: 0.9670\n",
      "Epoch [3/10], Step [500/600], Loss: 0.8448\n",
      "Epoch [3/10], Step [600/600], Loss: 0.7150\n",
      "Epoch [4/10], Step [100/600], Loss: 0.8510\n",
      "Epoch [4/10], Step [200/600], Loss: 0.7992\n",
      "Epoch [4/10], Step [300/600], Loss: 0.6759\n",
      "Epoch [4/10], Step [400/600], Loss: 0.8387\n",
      "Epoch [4/10], Step [500/600], Loss: 0.7271\n",
      "Epoch [4/10], Step [600/600], Loss: 0.7731\n",
      "Epoch [5/10], Step [100/600], Loss: 0.7145\n",
      "Epoch [5/10], Step [200/600], Loss: 0.8071\n",
      "Epoch [5/10], Step [300/600], Loss: 0.8395\n",
      "Epoch [5/10], Step [400/600], Loss: 0.8236\n",
      "Epoch [5/10], Step [500/600], Loss: 0.8329\n",
      "Epoch [5/10], Step [600/600], Loss: 0.6909\n",
      "Epoch [6/10], Step [100/600], Loss: 0.7881\n",
      "Epoch [6/10], Step [200/600], Loss: 0.8131\n",
      "Epoch [6/10], Step [300/600], Loss: 0.6491\n",
      "Epoch [6/10], Step [400/600], Loss: 0.6695\n",
      "Epoch [6/10], Step [500/600], Loss: 0.6982\n",
      "Epoch [6/10], Step [600/600], Loss: 0.6434\n",
      "Epoch [7/10], Step [100/600], Loss: 0.6288\n",
      "Epoch [7/10], Step [200/600], Loss: 0.6690\n",
      "Epoch [7/10], Step [300/600], Loss: 0.6647\n",
      "Epoch [7/10], Step [400/600], Loss: 0.7483\n",
      "Epoch [7/10], Step [500/600], Loss: 0.8263\n",
      "Epoch [7/10], Step [600/600], Loss: 0.7219\n",
      "Epoch [8/10], Step [100/600], Loss: 0.8532\n",
      "Epoch [8/10], Step [200/600], Loss: 0.6971\n",
      "Epoch [8/10], Step [300/600], Loss: 0.6804\n",
      "Epoch [8/10], Step [400/600], Loss: 0.6158\n",
      "Epoch [8/10], Step [500/600], Loss: 0.6522\n",
      "Epoch [8/10], Step [600/600], Loss: 0.7266\n",
      "Epoch [9/10], Step [100/600], Loss: 0.5451\n",
      "Epoch [9/10], Step [200/600], Loss: 0.6769\n",
      "Epoch [9/10], Step [300/600], Loss: 0.6012\n",
      "Epoch [9/10], Step [400/600], Loss: 0.6534\n",
      "Epoch [9/10], Step [500/600], Loss: 0.5386\n",
      "Epoch [9/10], Step [600/600], Loss: 0.7911\n",
      "Epoch [10/10], Step [100/600], Loss: 0.6682\n",
      "Epoch [10/10], Step [200/600], Loss: 0.7728\n",
      "Epoch [10/10], Step [300/600], Loss: 0.6111\n",
      "Epoch [10/10], Step [400/600], Loss: 0.5665\n",
      "Epoch [10/10], Step [500/600], Loss: 0.6685\n",
      "Epoch [10/10], Step [600/600], Loss: 0.6210\n"
     ]
    }
   ],
   "source": [
    "# Train the model\n",
    "\n",
    "total_step = len(train_loader)\n",
    "\n",
    "for epoch in range(num_epochs):\n",
    "    \n",
    "    for i, (images, labels) in enumerate(train_loader):\n",
    "        \n",
    "        images = images.reshape(-1, input_size)\n",
    "        \n",
    "        \n",
    "        # forward pass\n",
    "        outputs = model(images)\n",
    "        loss = criterion(outputs, labels)\n",
    "        \n",
    "        # optimize and backward\n",
    "        optimizer.zero_grad()\n",
    "        loss.backward()\n",
    "        optimizer.step()\n",
    "        \n",
    "        if (i+1) % 100 == 0:\n",
    "            print ('Epoch [{}/{}], Step [{}/{}], Loss: {:.4f}' \n",
    "                   .format(epoch+1, num_epochs, i+1, total_step, loss.item()))"
   ]
  },
  {
   "cell_type": "code",
   "execution_count": 32,
   "metadata": {},
   "outputs": [],
   "source": [
    "torch.save(model.state_dict(), 'model')"
   ]
  },
  {
   "cell_type": "code",
   "execution_count": 37,
   "metadata": {},
   "outputs": [
    {
     "name": "stdout",
     "output_type": "stream",
     "text": [
      "Accuracy of the model on the 10000 test images: 86.54000091552734 %\n"
     ]
    }
   ],
   "source": [
    "with torch.no_grad():\n",
    "    total = 0\n",
    "    correct = 0\n",
    "    \n",
    "    for images, labels in test_loader:\n",
    "        images = images.reshape(-1, input_size)\n",
    "        \n",
    "        outputs = model(images)\n",
    "        _, predicted = torch.max(outputs.data, 1)\n",
    "        total += labels.size(0)\n",
    "        correct += (predicted == labels).sum()\n",
    "\n",
    "    print('Accuracy of the model on the 10000 test images: {} %'.format(100 * correct / total))"
   ]
  },
  {
   "cell_type": "code",
   "execution_count": null,
   "metadata": {},
   "outputs": [],
   "source": []
  }
 ],
 "metadata": {
  "kernelspec": {
   "display_name": "Python 3",
   "language": "python",
   "name": "python3"
  },
  "language_info": {
   "codemirror_mode": {
    "name": "ipython",
    "version": 3
   },
   "file_extension": ".py",
   "mimetype": "text/x-python",
   "name": "python",
   "nbconvert_exporter": "python",
   "pygments_lexer": "ipython3",
   "version": "3.8.5"
  }
 },
 "nbformat": 4,
 "nbformat_minor": 4
}
